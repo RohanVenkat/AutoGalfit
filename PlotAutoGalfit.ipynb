{
 "cells": [
  {
   "cell_type": "code",
   "execution_count": 46,
   "metadata": {},
   "outputs": [],
   "source": [
    "import numpy as np\n",
    "import os\n",
    "from astropy.io import fits as pyfits\n",
    "import shutil\n",
    "import math\n",
    "from matplotlib import pyplot as plt"
   ]
  },
  {
   "cell_type": "code",
   "execution_count": 47,
   "metadata": {},
   "outputs": [],
   "source": [
    "def graph_output(path_of_output_file,num_comp,comp,param1,param2): #graphs any two components of an object with each other\n",
    "    output_file = open(path_of_output_file, \"r\")\n",
    "    if(os.path.isfile(path_of_output_file) == False):\n",
    "        return \"FILE NOT FOUND\"\n",
    "    i_next = comp + 1\n",
    "    param1_ar = []\n",
    "    param2_ar = []\n",
    "    i = -1\n",
    "    lines = output_file.readlines()\n",
    "    for line in lines:\n",
    "        comp_list = line.split()\n",
    "        i += 1\n",
    "        if(comp_list == []):\n",
    "            continue\n",
    "        if(comp_list[0] == \"ERRORS\"):\n",
    "            break\n",
    "        else:\n",
    "            if(i == i_next):\n",
    "                i_next = i_next + num_comp + 1\n",
    "                val_param1 = comp_list[param1]\n",
    "                val_param2 = comp_list[param2]\n",
    "                param1_ar.append(float(val_param1))\n",
    "                param2_ar.append(float(val_param2))\n",
    "            else:\n",
    "                continue\n",
    "    plt.rcParams[\"figure.figsize\"] = (5,5)\n",
    "    plt.scatter(param1_ar,param2_ar)"
   ]
  },
  {
   "cell_type": "code",
   "execution_count": 48,
   "metadata": {},
   "outputs": [],
   "source": [
    "def histogram(path_of_output_file,num_comp,comp,param_num,binsize,galaxyname,paramname): #graphs any two components of an object with each other\n",
    "    output_file = open(path_of_output_file, \"r\")\n",
    "    if(os.path.isfile(path_of_output_file) == False):\n",
    "        return \"FILE NOT FOUND\"\n",
    "    i_next = comp + 1\n",
    "    param_ar = []\n",
    "    i = -1\n",
    "    lines = output_file.readlines()\n",
    "    for line in lines:\n",
    "        comp_list = line.split()\n",
    "        i += 1\n",
    "        if(comp_list == []):\n",
    "            continue\n",
    "        if(comp_list[0] == \"ERRORS\"):\n",
    "            break\n",
    "        else:\n",
    "            if(i == i_next):\n",
    "                i_next = i_next + num_comp + 1\n",
    "                val_param = comp_list[param_num]\n",
    "                param_ar.append(float(val_param))\n",
    "            else:\n",
    "                continue\n",
    "    plt.title(galaxyname)\n",
    "    plt.ylabel(\"Frequency\")\n",
    "    plt.xlabel(paramname)\n",
    "    plt.hist(param_ar,binsize)"
   ]
  },
  {
   "cell_type": "code",
   "execution_count": 55,
   "metadata": {},
   "outputs": [
    {
     "data": {
      "image/png": "[encoded data removed]",
      "text/plain": [
       "<Figure size 360x360 with 1 Axes>"
      ]
     },
     "metadata": {
      "needs_background": "light"
     },
     "output_type": "display_data"
    }
   ],
   "source": [
    "histogram(\"/Users/rohanvenkat/Desktop/galfit_files_SDSSJ090519.72+084914.02/quasar_first/galfit_files/test_2/output_file.txt\",1,0,6,100,\"SDSSJ090519.72+084914.02\",\"Position Angle (deg)\")"
   ]
  },
  {
   "cell_type": "code",
   "execution_count": null,
   "metadata": {},
   "outputs": [],
   "source": []
  }
 ],
 "metadata": {
  "kernelspec": {
   "display_name": "Python 3",
   "language": "python",
   "name": "python3"
  },
  "language_info": {
   "codemirror_mode": {
    "name": "ipython",
    "version": 3
   },
   "file_extension": ".py",
   "mimetype": "text/x-python",
   "name": "python",
   "nbconvert_exporter": "python",
   "pygments_lexer": "ipython3",
   "version": "3.7.3"
  }
 },
 "nbformat": 4,
 "nbformat_minor": 2
}
