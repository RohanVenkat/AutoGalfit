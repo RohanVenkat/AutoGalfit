{
 "cells": [
  {
   "cell_type": "code",
   "execution_count": 1,
   "metadata": {},
   "outputs": [],
   "source": [
    "import numpy as np\n",
    "import os\n",
    "from astropy.io import fits as pyfits\n",
    "import shutil\n",
    "import math\n",
    "from matplotlib import pyplot as plt\n",
    "import statistics"
   ]
  },
  {
   "cell_type": "code",
   "execution_count": 2,
   "metadata": {},
   "outputs": [],
   "source": [
    "def get_sorted_list(path_of_output_file,num_comp,comp,target_param): #graphs any two components of an object with each other\n",
    "    output_file = open(path_of_output_file, \"r\")\n",
    "    if(os.path.isfile(path_of_output_file) == False):\n",
    "        return \"FILE NOT FOUND\"\n",
    "    i_next = comp + 1\n",
    "    param1_ar = []\n",
    "    param2_ar = []\n",
    "    i = -1\n",
    "    lines = output_file.readlines()\n",
    "    val_list = []\n",
    "    for line in lines:\n",
    "        comp_list = line.split()\n",
    "        i += 1\n",
    "        if(comp_list == []):\n",
    "            continue\n",
    "        if(comp_list[0] == \"ERRORS\"):\n",
    "            break\n",
    "        else:\n",
    "            if(i == i_next):\n",
    "                i_next = i_next + num_comp + 1\n",
    "                val_param = comp_list[target_param]\n",
    "                val_list.append(float(val_param))\n",
    "            else:\n",
    "                continue\n",
    "    val_list.sort()\n",
    "    return sorted(val_list)"
   ]
  },
  {
   "cell_type": "code",
   "execution_count": 3,
   "metadata": {},
   "outputs": [],
   "source": [
    "def get_vals(sorted_list):\n",
    "    #first getting mode\n",
    "    in_list = False\n",
    "    freq_list = []\n",
    "    for i in range(len(sorted_list)):\n",
    "        val = sorted_list[i]\n",
    "        for j in range(len(freq_list)):\n",
    "            if(freq_list[j][0] == val):\n",
    "                freq_list[j][1] += 1\n",
    "                in_list = True\n",
    "                break\n",
    "        if(in_list == True):\n",
    "            in_list = False\n",
    "            continue\n",
    "        else:\n",
    "            in_list = False\n",
    "            freq_list.append([val,1])\n",
    "    max_seen = 0\n",
    "    for i in range(len(freq_list)):\n",
    "        val = freq_list[i][1]\n",
    "        if(val > max_seen):\n",
    "            max_seen = val\n",
    "    mode_list = []\n",
    "    for i in range(len(freq_list)):\n",
    "        val = freq_list[i][0]\n",
    "        num = freq_list[i][1]\n",
    "        if(num == max_seen):\n",
    "            mode_list.append(val)\n",
    "    #now getting the rest\n",
    "    length = len(sorted_list)\n",
    "    i_sixteen = int(0.16 * length)\n",
    "    i_eightyfour = int(0.84*length)\n",
    "    lower_quart = sorted_list[i_sixteen]\n",
    "    upper_quart = sorted_list[i_eightyfour]\n",
    "    mode = mode_list[0]\n",
    "    median = statistics.median(sorted_list)\n",
    "    return (median,mode,lower_quart,upper_quart)"
   ]
  },
  {
   "cell_type": "code",
   "execution_count": 4,
   "metadata": {},
   "outputs": [],
   "source": [
    "def phihistogram(psi,path_of_output_file,num_comp,comp,binsize,galaxyname,paramname): #graphs any two components of an object with each other\n",
    "    output_file = open(path_of_output_file, \"r\")\n",
    "    if(os.path.isfile(path_of_output_file) == False):\n",
    "        return \"FILE NOT FOUND\"\n",
    "    i_next = comp + 1\n",
    "    param_ar = []\n",
    "    i = -1\n",
    "    lines = output_file.readlines()\n",
    "    for line in lines:\n",
    "        comp_list = line.split()\n",
    "        i += 1\n",
    "        if(comp_list == []):\n",
    "            continue\n",
    "        if(comp_list[0] == \"ERRORS\"):\n",
    "            break\n",
    "        else:\n",
    "            if(i == i_next):\n",
    "                i_next = i_next + num_comp + 1\n",
    "                pa = float(comp_list[6])\n",
    "                theta = abs(psi - pa)\n",
    "                phi = 90 - abs(theta - 90)\n",
    "                param_ar.append(float(phi))\n",
    "            else:\n",
    "                continue\n",
    "    plt.title(galaxyname)\n",
    "    plt.ylabel(\"Frequency\")\n",
    "    plt.xlabel(paramname)\n",
    "    plt.hist(param_ar,binsize)"
   ]
  },
  {
   "cell_type": "code",
   "execution_count": 5,
   "metadata": {},
   "outputs": [],
   "source": [
    "def pahistogram(path_of_output_file,num_comp,comp,binsize,galaxyname,paramname): #graphs any two components of an object with each other\n",
    "    output_file = open(path_of_output_file, \"r\")\n",
    "    if(os.path.isfile(path_of_output_file) == False):\n",
    "        return \"FILE NOT FOUND\"\n",
    "    i_next = comp + 1\n",
    "    param_ar = []\n",
    "    i = -1\n",
    "    lines = output_file.readlines()\n",
    "    for line in lines:\n",
    "        comp_list = line.split()\n",
    "        i += 1\n",
    "        if(comp_list == []):\n",
    "            continue\n",
    "        if(comp_list[0] == \"ERRORS\"):\n",
    "            break\n",
    "        else:\n",
    "            if(i == i_next):\n",
    "                i_next = i_next + num_comp + 1\n",
    "                pa = float(comp_list[6])\n",
    "                param_ar.append(float(pa))\n",
    "            else:\n",
    "                continue\n",
    "    plt.title(galaxyname)\n",
    "    plt.ylabel(\"Frequency\")\n",
    "    plt.xlabel(paramname)\n",
    "    plt.hist(param_ar,binsize)"
   ]
  },
  {
   "cell_type": "code",
   "execution_count": 7,
   "metadata": {},
   "outputs": [
    {
     "data": {
      "image/png": "[encoded data removed]",
      "text/plain": [
       "<Figure size 432x288 with 1 Axes>"
      ]
     },
     "metadata": {
      "needs_background": "light"
     },
     "output_type": "display_data"
    }
   ],
   "source": [
    "psi = float(-76.1224711697331)\n",
    "pahistogram(\"/Users/rohanvenkat/Desktop/output_file.txt\",1,0,100,\"SDSSJ204208.73-055224.86\",\"Position Angle (deg)\")"
   ]
  },
  {
   "cell_type": "code",
   "execution_count": 8,
   "metadata": {},
   "outputs": [
    {
     "data": {
      "image/png": "[encoded data removed]",
      "text/plain": [
       "<Figure size 432x288 with 1 Axes>"
      ]
     },
     "metadata": {
      "needs_background": "light"
     },
     "output_type": "display_data"
    }
   ],
   "source": [
    "phihistogram(psi,\"/Users/rohanvenkat/Desktop/output_file.txt\",1,0,100,\"SDSSJ204208.73-055224.86\",\"Orientation Angle (deg)\")"
   ]
  },
  {
   "cell_type": "code",
   "execution_count": 166,
   "metadata": {},
   "outputs": [
    {
     "name": "stdout",
     "output_type": "stream",
     "text": [
      "1.1299999999999955\n"
     ]
    },
    {
     "data": {
      "text/plain": [
       "<matplotlib.collections.PathCollection at 0x7fc4d991c2e8>"
      ]
     },
     "execution_count": 166,
     "metadata": {},
     "output_type": "execute_result"
    },
    {
     "data": {
      "image/png": "[encoded data removed]",
      "text/plain": [
       "<Figure size 432x288 with 1 Axes>"
      ]
     },
     "metadata": {},
     "output_type": "display_data"
    }
   ],
   "source": [
    "#Get dispersion (16 and 84 percent values) of each of the 17 distributions \n",
    "#and compare with the error given by galfit single trial run \n",
    "#(there will be two graphs: median-16% vs error single trial and \n",
    "#84% - median vs single trial run)\n",
    "\n",
    "#Plot dispersion in best fit angle vs single trial error from galfit \n",
    "#(17 data point scatter plot)\n",
    "\n",
    "#Plot the difference in y and x axis vs the distance (d)\n",
    "\n",
    "\n",
    "path = \"/Users/rohanvenkat/Desktop/output_files\"\n",
    "filelist = os.listdir(path)\n",
    "val_list = []\n",
    "for i in range(1,len(filelist)):\n",
    "    sortedlist = \"\"\n",
    "    filename = filelist[i]\n",
    "    #print(filename)\n",
    "    if(filename == \"output_file_SDSSJ113328.09+032717.56.txt\"): #these if statement galaxies have 2 components\n",
    "        sortedlist = get_sorted_list(os.path.join(path,filename),2,0,6)\n",
    "    #    print(len(sortedlist))\n",
    "    elif(filename == \"output_file_SDSSJ121640.34+071224.42.txt\"):\n",
    "        sortedlist = get_sorted_list(os.path.join(path,filename),2,0,6)\n",
    "    #    print(len(sortedlist))\n",
    "    elif(filename == \"output_file_SDSSJ152424.70+095833.66.txt\"):\n",
    "        sortedlist = get_sorted_list(os.path.join(path,filename),2,0,6)\n",
    "   #     print(len(sortedlist))\n",
    "    else:\n",
    "        sortedlist = get_sorted_list(os.path.join(path,filename),1,0,6)    \n",
    "    tup = get_vals(sortedlist) #the order is: median, mode, 16%, 84%\n",
    "    val_list.append(tup)\n",
    "#now, plotting the first plot\n",
    "med16_list = []\n",
    "med84_list = []\n",
    "best_fit_list = []\n",
    "for i in range(len(val_list)):\n",
    "    med16 = val_list[i][1] - val_list[i][2]\n",
    "    med84 = val_list[i][3] - val_list[i][1]\n",
    "    med16_list.append(med16)\n",
    "    best_fit_list.append(val_list[i][1])\n",
    "    if(i == 1):\n",
    "        print(val_list[i][1] - val_list[i][2])\n",
    "      #  print(val_list[i][1])\n",
    "    med84_list.append(med84)\n",
    "single_error_list = [0.610,8.940,7.400,6.780,1.170,1.410,0.610,1.670,3.300,3.780,1.790,5.360,5.700,0.850,1.130,2.810]\n",
    "fig, ax = plt.subplots(facecolor ='#A0F0CC')\n",
    "ax.set_xlim(0,10)\n",
    "ax.set_ylim(0,10)\n",
    "\n",
    "plt.xlabel('Single Error Trial')\n",
    "plt.ylabel('Median - 16% Bound')\n",
    "plt.scatter(single_error_list,med16_list)\n",
    "plt.scatter(single_error_list,med84_list)"
   ]
  },
  {
   "cell_type": "code",
   "execution_count": 160,
   "metadata": {},
   "outputs": [
    {
     "data": {
      "text/plain": [
       "Text(0, 0.5, 'Median PA')"
      ]
     },
     "execution_count": 160,
     "metadata": {},
     "output_type": "execute_result"
    },
    {
     "data": {
      "image/png": "[encoded data removed]",
      "text/plain": [
       "<Figure size 432x288 with 1 Axes>"
      ]
     },
     "metadata": {
      "needs_background": "light"
     },
     "output_type": "display_data"
    }
   ],
   "source": [
    "plt.scatter(single_error_list, best_fit_list)\n",
    "plt.xlabel('Single Error Trial')\n",
    "plt.ylabel('Median PA')"
   ]
  },
  {
   "cell_type": "code",
   "execution_count": null,
   "metadata": {},
   "outputs": [],
   "source": []
  }
 ],
 "metadata": {
  "kernelspec": {
   "display_name": "Python 3",
   "language": "python",
   "name": "python3"
  },
  "language_info": {
   "codemirror_mode": {
    "name": "ipython",
    "version": 3
   },
   "file_extension": ".py",
   "mimetype": "text/x-python",
   "name": "python",
   "nbconvert_exporter": "python",
   "pygments_lexer": "ipython3",
   "version": "3.7.3"
  }
 },
 "nbformat": 4,
 "nbformat_minor": 2
}
